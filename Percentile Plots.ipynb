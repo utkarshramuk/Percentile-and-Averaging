{
 "cells": [
  {
   "cell_type": "code",
   "execution_count": 259,
   "id": "178b90fc",
   "metadata": {},
   "outputs": [],
   "source": [
    "start_yr = 1951\n",
    "end_yr = 2019"
   ]
  },
  {
   "cell_type": "code",
   "execution_count": 260,
   "id": "0001d140",
   "metadata": {
    "collapsed": true
   },
   "outputs": [
    {
     "name": "stdout",
     "output_type": "stream",
     "text": [
      "Downloading: maxtemp for year 1951\n",
      "Downloading: maxtemp for year 1952\n",
      "Downloading: maxtemp for year 1953\n",
      "Downloading: maxtemp for year 1954\n",
      "Downloading: maxtemp for year 1955\n",
      "Downloading: maxtemp for year 1956\n",
      "Downloading: maxtemp for year 1957\n",
      "Downloading: maxtemp for year 1958\n",
      "Downloading: maxtemp for year 1959\n",
      "Downloading: maxtemp for year 1960\n",
      "Downloading: maxtemp for year 1961\n",
      "Downloading: maxtemp for year 1962\n",
      "Downloading: maxtemp for year 1963\n",
      "Downloading: maxtemp for year 1964\n",
      "Downloading: maxtemp for year 1965\n",
      "Downloading: maxtemp for year 1966\n",
      "Downloading: maxtemp for year 1967\n",
      "Downloading: maxtemp for year 1968\n",
      "Downloading: maxtemp for year 1969\n",
      "Downloading: maxtemp for year 1970\n",
      "Downloading: maxtemp for year 1971\n",
      "Downloading: maxtemp for year 1972\n",
      "Downloading: maxtemp for year 1973\n",
      "Downloading: maxtemp for year 1974\n",
      "Downloading: maxtemp for year 1975\n",
      "Downloading: maxtemp for year 1976\n",
      "Downloading: maxtemp for year 1977\n",
      "Downloading: maxtemp for year 1978\n",
      "Downloading: maxtemp for year 1979\n",
      "Downloading: maxtemp for year 1980\n",
      "Downloading: maxtemp for year 1981\n",
      "Downloading: maxtemp for year 1982\n",
      "Downloading: maxtemp for year 1983\n",
      "Downloading: maxtemp for year 1984\n",
      "Downloading: maxtemp for year 1985\n",
      "Downloading: maxtemp for year 1986\n",
      "Downloading: maxtemp for year 1987\n",
      "Downloading: maxtemp for year 1988\n",
      "Downloading: maxtemp for year 1989\n",
      "Downloading: maxtemp for year 1990\n",
      "Downloading: maxtemp for year 1991\n",
      "Downloading: maxtemp for year 1992\n",
      "Downloading: maxtemp for year 1993\n",
      "Downloading: maxtemp for year 1994\n",
      "Downloading: maxtemp for year 1995\n",
      "Downloading: maxtemp for year 1996\n",
      "Downloading: maxtemp for year 1997\n",
      "Downloading: maxtemp for year 1998\n",
      "Downloading: maxtemp for year 1999\n",
      "Downloading: maxtemp for year 2000\n",
      "Downloading: maxtemp for year 2001\n",
      "Downloading: maxtemp for year 2002\n",
      "Downloading: maxtemp for year 2003\n",
      "Downloading: maxtemp for year 2004\n",
      "Downloading: maxtemp for year 2005\n",
      "Downloading: maxtemp for year 2006\n",
      "Downloading: maxtemp for year 2007\n",
      "Downloading: maxtemp for year 2008\n",
      "Downloading: maxtemp for year 2009\n",
      "Downloading: maxtemp for year 2010\n",
      "Downloading: maxtemp for year 2011\n",
      "Downloading: maxtemp for year 2012\n",
      "Downloading: maxtemp for year 2013\n",
      "Downloading: maxtemp for year 2014\n",
      "Downloading: maxtemp for year 2015\n",
      "Downloading: maxtemp for year 2016\n",
      "Downloading: maxtemp for year 2017\n",
      "Downloading: maxtemp for year 2018\n",
      "Downloading: maxtemp for year 2019\n",
      "Download Successful !!!\n"
     ]
    }
   ],
   "source": [
    "import imdlib as imd\n",
    "import xarray as xr\n",
    "import pandas as pd\n",
    "import numpy as np\n",
    "variable = 'tmax' \n",
    "data_max = imd.get_data(variable, start_yr, end_yr,fn_format='yearwise')\n",
    "d_temp_max = data_max.get_xarray()"
   ]
  },
  {
   "cell_type": "code",
   "execution_count": 272,
   "id": "c51cb899",
   "metadata": {},
   "outputs": [],
   "source": [
    "elevations=pd.read_csv(\"imd_srtm.csv\")\n",
    "elevations = elevations.set_index(['lat', 'lon'])\n",
    "df=elevations.to_xarray()\n",
    "\n",
    "merged_data_max=xr.merge([d_temp_max, df],join='inner')"
   ]
  },
  {
   "cell_type": "code",
   "execution_count": 273,
   "id": "ee0f210d",
   "metadata": {},
   "outputs": [],
   "source": [
    "H = merged_data_max.to_dataframe()  # CHANGE ELEVATIONS IN THE FOLLOWIING TWO LINES\n",
    "\n",
    "H300=H[H.median_elevation >1000] #tmax for >1000 m\n",
    "H162=H[H.median_elevation <162] #tmax for <162 m"
   ]
  },
  {
   "cell_type": "code",
   "execution_count": 274,
   "id": "dd0084c4",
   "metadata": {},
   "outputs": [],
   "source": [
    "H300=H300.round(2)  #Rounding the values to 2 decimals so that we can replace 99 with nan\n",
    "H162=H162.round(2)\n",
    "\n",
    "H300.replace(99.90,np.nan, inplace=True)   #replace 99.90 with nan to remove the respective rows later on\n",
    "H162.replace(99.90,np.nan, inplace=True)\n",
    "\n",
    "H300.dropna(inplace=True)  #removing all the nan's\n",
    "H162.dropna(inplace=True)"
   ]
  },
  {
   "cell_type": "code",
   "execution_count": 275,
   "id": "dd427bee",
   "metadata": {},
   "outputs": [],
   "source": [
    "H162.reset_index(inplace=True)   \n",
    "H300.reset_index(inplace=True)"
   ]
  },
  {
   "cell_type": "code",
   "execution_count": 276,
   "id": "3b522dbf",
   "metadata": {},
   "outputs": [],
   "source": [
    "H300['year']=pd.DatetimeIndex(H300['time']).year\n",
    "H300['month']=pd.DatetimeIndex(H300['time']).month\n",
    "H300['day']=pd.DatetimeIndex(H300['time']).day "
   ]
  },
  {
   "cell_type": "code",
   "execution_count": 277,
   "id": "e111f1e2",
   "metadata": {},
   "outputs": [],
   "source": [
    "H162['year']=pd.DatetimeIndex(H162['time']).year\n",
    "H162['month']=pd.DatetimeIndex(H162['time']).month\n",
    "H162['day']=pd.DatetimeIndex(H162['time']).day        "
   ]
  },
  {
   "cell_type": "code",
   "execution_count": 278,
   "id": "3d6f0989",
   "metadata": {},
   "outputs": [],
   "source": [
    "H300=H300[H300['month'] > 3]\n",
    "H300=H300[H300['month'] < 6] "
   ]
  },
  {
   "cell_type": "code",
   "execution_count": 279,
   "id": "fef79a41",
   "metadata": {},
   "outputs": [],
   "source": [
    "H162=H162[H162['month'] > 3]\n",
    "H162=H162[H162['month'] < 6]     "
   ]
  },
  {
   "cell_type": "code",
   "execution_count": 304,
   "id": "8e370868",
   "metadata": {},
   "outputs": [],
   "source": [
    "k=H162     #Change Here for H162/H300"
   ]
  },
  {
   "cell_type": "code",
   "execution_count": 315,
   "id": "4e65b26e",
   "metadata": {},
   "outputs": [],
   "source": [
    "k1=k.loc[(k[\"month\"]==4)&(k[\"day\"]>14)]\n",
    "k2=k.loc[(k[\"month\"]==5)&(k[\"day\"]<15)]\n",
    "k = k1.append(k2)"
   ]
  },
  {
   "cell_type": "code",
   "execution_count": 317,
   "id": "b7a48924",
   "metadata": {},
   "outputs": [
    {
     "data": {
      "text/html": [
       "<div>\n",
       "<style scoped>\n",
       "    .dataframe tbody tr th:only-of-type {\n",
       "        vertical-align: middle;\n",
       "    }\n",
       "\n",
       "    .dataframe tbody tr th {\n",
       "        vertical-align: top;\n",
       "    }\n",
       "\n",
       "    .dataframe thead th {\n",
       "        text-align: right;\n",
       "    }\n",
       "</style>\n",
       "<table border=\"1\" class=\"dataframe\">\n",
       "  <thead>\n",
       "    <tr style=\"text-align: right;\">\n",
       "      <th></th>\n",
       "      <th>lat</th>\n",
       "      <th>lon</th>\n",
       "      <th>time</th>\n",
       "      <th>tmax</th>\n",
       "      <th>median_elevation</th>\n",
       "      <th>year</th>\n",
       "      <th>month</th>\n",
       "      <th>day</th>\n",
       "    </tr>\n",
       "  </thead>\n",
       "  <tbody>\n",
       "    <tr>\n",
       "      <th>104</th>\n",
       "      <td>9.5</td>\n",
       "      <td>76.5</td>\n",
       "      <td>1951-04-15</td>\n",
       "      <td>29.06</td>\n",
       "      <td>5.0</td>\n",
       "      <td>1951</td>\n",
       "      <td>4</td>\n",
       "      <td>15</td>\n",
       "    </tr>\n",
       "    <tr>\n",
       "      <th>105</th>\n",
       "      <td>9.5</td>\n",
       "      <td>76.5</td>\n",
       "      <td>1951-04-16</td>\n",
       "      <td>28.76</td>\n",
       "      <td>5.0</td>\n",
       "      <td>1951</td>\n",
       "      <td>4</td>\n",
       "      <td>16</td>\n",
       "    </tr>\n",
       "  </tbody>\n",
       "</table>\n",
       "</div>"
      ],
      "text/plain": [
       "     lat   lon       time   tmax  median_elevation  year  month  day\n",
       "104  9.5  76.5 1951-04-15  29.06               5.0  1951      4   15\n",
       "105  9.5  76.5 1951-04-16  28.76               5.0  1951      4   16"
      ]
     },
     "execution_count": 317,
     "metadata": {},
     "output_type": "execute_result"
    }
   ],
   "source": [
    "k.head(2)"
   ]
  },
  {
   "cell_type": "markdown",
   "id": "8f459cc4",
   "metadata": {},
   "source": [
    "## Part 1: Finding percentiles "
   ]
  },
  {
   "cell_type": "code",
   "execution_count": 320,
   "id": "90a14a5d",
   "metadata": {},
   "outputs": [],
   "source": [
    "df = k[\"year\"].unique()\n",
    "b = pd.DataFrame({'year': df[:]})"
   ]
  },
  {
   "cell_type": "code",
   "execution_count": 321,
   "id": "34cb6e4b",
   "metadata": {},
   "outputs": [],
   "source": [
    "b['99.4']=[0]*b.shape[0]\n",
    "b['99.9']=[0]*b.shape[0]\n",
    "b['99.99']=[0]*b.shape[0]\n"
   ]
  },
  {
   "cell_type": "code",
   "execution_count": 322,
   "id": "7ebaea76",
   "metadata": {},
   "outputs": [],
   "source": [
    "c=0\n",
    "for i in range(start_yr,end_yr+1):\n",
    "    a=k[k['year']==i]\n",
    "    b.iloc[c,1]= a['tmax'].quantile(0.994)\n",
    "    b.iloc[c,2]= a['tmax'].quantile(0.999)\n",
    "    b.iloc[c,3]= a['tmax'].quantile(0.9999)\n",
    "    c+=1"
   ]
  },
  {
   "cell_type": "code",
   "execution_count": 323,
   "id": "09d5ea6f",
   "metadata": {},
   "outputs": [
    {
     "data": {
      "text/html": [
       "<div>\n",
       "<style scoped>\n",
       "    .dataframe tbody tr th:only-of-type {\n",
       "        vertical-align: middle;\n",
       "    }\n",
       "\n",
       "    .dataframe tbody tr th {\n",
       "        vertical-align: top;\n",
       "    }\n",
       "\n",
       "    .dataframe thead th {\n",
       "        text-align: right;\n",
       "    }\n",
       "</style>\n",
       "<table border=\"1\" class=\"dataframe\">\n",
       "  <thead>\n",
       "    <tr style=\"text-align: right;\">\n",
       "      <th></th>\n",
       "      <th>year</th>\n",
       "      <th>99.4</th>\n",
       "      <th>99.9</th>\n",
       "      <th>99.99</th>\n",
       "    </tr>\n",
       "  </thead>\n",
       "  <tbody>\n",
       "    <tr>\n",
       "      <th>0</th>\n",
       "      <td>1951</td>\n",
       "      <td>42.99030</td>\n",
       "      <td>43.85202</td>\n",
       "      <td>44.098409</td>\n",
       "    </tr>\n",
       "    <tr>\n",
       "      <th>1</th>\n",
       "      <td>1952</td>\n",
       "      <td>42.82818</td>\n",
       "      <td>43.41015</td>\n",
       "      <td>44.084873</td>\n",
       "    </tr>\n",
       "    <tr>\n",
       "      <th>2</th>\n",
       "      <td>1953</td>\n",
       "      <td>41.40030</td>\n",
       "      <td>41.86207</td>\n",
       "      <td>41.962803</td>\n",
       "    </tr>\n",
       "    <tr>\n",
       "      <th>3</th>\n",
       "      <td>1954</td>\n",
       "      <td>41.48060</td>\n",
       "      <td>41.86207</td>\n",
       "      <td>41.962803</td>\n",
       "    </tr>\n",
       "    <tr>\n",
       "      <th>4</th>\n",
       "      <td>1955</td>\n",
       "      <td>43.12454</td>\n",
       "      <td>44.19823</td>\n",
       "      <td>44.400404</td>\n",
       "    </tr>\n",
       "    <tr>\n",
       "      <th>...</th>\n",
       "      <td>...</td>\n",
       "      <td>...</td>\n",
       "      <td>...</td>\n",
       "      <td>...</td>\n",
       "    </tr>\n",
       "    <tr>\n",
       "      <th>64</th>\n",
       "      <td>2015</td>\n",
       "      <td>43.02000</td>\n",
       "      <td>43.89030</td>\n",
       "      <td>44.322020</td>\n",
       "    </tr>\n",
       "    <tr>\n",
       "      <th>65</th>\n",
       "      <td>2016</td>\n",
       "      <td>43.79606</td>\n",
       "      <td>44.36005</td>\n",
       "      <td>44.832449</td>\n",
       "    </tr>\n",
       "    <tr>\n",
       "      <th>66</th>\n",
       "      <td>2017</td>\n",
       "      <td>44.07606</td>\n",
       "      <td>45.11611</td>\n",
       "      <td>45.392803</td>\n",
       "    </tr>\n",
       "    <tr>\n",
       "      <th>67</th>\n",
       "      <td>2018</td>\n",
       "      <td>43.38000</td>\n",
       "      <td>44.08603</td>\n",
       "      <td>44.214045</td>\n",
       "    </tr>\n",
       "    <tr>\n",
       "      <th>68</th>\n",
       "      <td>2019</td>\n",
       "      <td>43.38484</td>\n",
       "      <td>43.94828</td>\n",
       "      <td>44.342606</td>\n",
       "    </tr>\n",
       "  </tbody>\n",
       "</table>\n",
       "<p>69 rows × 4 columns</p>\n",
       "</div>"
      ],
      "text/plain": [
       "    year      99.4      99.9      99.99\n",
       "0   1951  42.99030  43.85202  44.098409\n",
       "1   1952  42.82818  43.41015  44.084873\n",
       "2   1953  41.40030  41.86207  41.962803\n",
       "3   1954  41.48060  41.86207  41.962803\n",
       "4   1955  43.12454  44.19823  44.400404\n",
       "..   ...       ...       ...        ...\n",
       "64  2015  43.02000  43.89030  44.322020\n",
       "65  2016  43.79606  44.36005  44.832449\n",
       "66  2017  44.07606  45.11611  45.392803\n",
       "67  2018  43.38000  44.08603  44.214045\n",
       "68  2019  43.38484  43.94828  44.342606\n",
       "\n",
       "[69 rows x 4 columns]"
      ]
     },
     "execution_count": 323,
     "metadata": {},
     "output_type": "execute_result"
    }
   ],
   "source": [
    "b"
   ]
  },
  {
   "cell_type": "code",
   "execution_count": 324,
   "id": "db1d482f",
   "metadata": {},
   "outputs": [
    {
     "data": {
      "text/plain": [
       "<AxesSubplot:xlabel='year', ylabel='99.4'>"
      ]
     },
     "execution_count": 324,
     "metadata": {},
     "output_type": "execute_result"
    },
    {
     "data": {
      "image/png": "[encoded data removed]",
      "text/plain": [
       "<Figure size 432x288 with 1 Axes>"
      ]
     },
     "metadata": {
      "needs_background": "light"
     },
     "output_type": "display_data"
    }
   ],
   "source": [
    "import seaborn as sns\n",
    "sns.lineplot(x=b['year'],y=b['99.4'])\n",
    "#sns.regplot(x=b['year'],y=b['99.4'],ci=None)\n",
    "sns.lineplot(x=b['year'],y=b['99.9'])\n",
    "#sns.regplot(x=b['year'],y=b['99.9'],ci=None)\n",
    "sns.lineplot(x=b['year'],y=b['99.99'])\n",
    "#sns.regplot(x=b['year'],y=b['99.99'],ci=None)"
   ]
  },
  {
   "cell_type": "code",
   "execution_count": null,
   "id": "05a16abc",
   "metadata": {},
   "outputs": [],
   "source": []
  },
  {
   "cell_type": "markdown",
   "id": "6a7279f4",
   "metadata": {},
   "source": [
    "## Part 2: Finding 4 max temp in a day and then getting avg of month  \n"
   ]
  },
  {
   "cell_type": "code",
   "execution_count": 336,
   "id": "64866a6d",
   "metadata": {},
   "outputs": [],
   "source": [
    "#k.nlargest(4, ['tmax'])['tmax'].mean() #testing for daily 4 max avg "
   ]
  },
  {
   "cell_type": "code",
   "execution_count": 326,
   "id": "e602cac2",
   "metadata": {},
   "outputs": [],
   "source": [
    "dates = k[\"time\"].unique()"
   ]
  },
  {
   "cell_type": "code",
   "execution_count": 327,
   "id": "f6628d4a",
   "metadata": {},
   "outputs": [
    {
     "data": {
      "text/html": [
       "<div>\n",
       "<style scoped>\n",
       "    .dataframe tbody tr th:only-of-type {\n",
       "        vertical-align: middle;\n",
       "    }\n",
       "\n",
       "    .dataframe tbody tr th {\n",
       "        vertical-align: top;\n",
       "    }\n",
       "\n",
       "    .dataframe thead th {\n",
       "        text-align: right;\n",
       "    }\n",
       "</style>\n",
       "<table border=\"1\" class=\"dataframe\">\n",
       "  <thead>\n",
       "    <tr style=\"text-align: right;\">\n",
       "      <th></th>\n",
       "      <th>date</th>\n",
       "      <th>year</th>\n",
       "      <th>month</th>\n",
       "      <th>day</th>\n",
       "      <th>temp</th>\n",
       "    </tr>\n",
       "  </thead>\n",
       "  <tbody>\n",
       "    <tr>\n",
       "      <th>0</th>\n",
       "      <td>1951-04-15</td>\n",
       "      <td>1951</td>\n",
       "      <td>4</td>\n",
       "      <td>15</td>\n",
       "      <td>0</td>\n",
       "    </tr>\n",
       "  </tbody>\n",
       "</table>\n",
       "</div>"
      ],
      "text/plain": [
       "        date  year  month  day  temp\n",
       "0 1951-04-15  1951      4   15     0"
      ]
     },
     "execution_count": 327,
     "metadata": {},
     "output_type": "execute_result"
    }
   ],
   "source": [
    "b = pd.DataFrame({'date': dates[:]})\n",
    "b['year']=pd.DatetimeIndex(b['date']).year\n",
    "b['month']=pd.DatetimeIndex(b['date']).month\n",
    "b['day']=pd.DatetimeIndex(b['date']).day\n",
    "b['temp']=[0]*len(b)\n",
    "#b['count(days)']=[1]*(dates.size)\n",
    "b.head(1)"
   ]
  },
  {
   "cell_type": "code",
   "execution_count": 328,
   "id": "c0974421",
   "metadata": {},
   "outputs": [],
   "source": [
    "#b.sort_values(by=[\"date\"],inplace=True)"
   ]
  },
  {
   "cell_type": "code",
   "execution_count": 329,
   "id": "166a55a2",
   "metadata": {},
   "outputs": [],
   "source": [
    "for i in range(start_yr,end_yr+1):\n",
    "    a1=k[k['year']==i]\n",
    "    for j in range(1,32):\n",
    "        a2=a1[a1['day']==j]\n",
    "        #a2.nlargest(4, ['tmax'])['tmax'].mean()\n",
    "        b.loc[(b['year'] == i) & (b['day'] == j), 'temp'] = a2.nlargest(4, ['tmax'])['tmax'].mean()"
   ]
  },
  {
   "cell_type": "code",
   "execution_count": 330,
   "id": "ad0ede7c",
   "metadata": {},
   "outputs": [],
   "source": [
    "a=b.groupby('year').mean()"
   ]
  },
  {
   "cell_type": "code",
   "execution_count": 331,
   "id": "f6786f9e",
   "metadata": {},
   "outputs": [],
   "source": [
    "a.drop(['month', 'day'], axis = 1, inplace = True) "
   ]
  },
  {
   "cell_type": "code",
   "execution_count": 332,
   "id": "71eb18b6",
   "metadata": {},
   "outputs": [],
   "source": [
    "a.reset_index(inplace=True)  # only for plotting as a is having year as index here"
   ]
  },
  {
   "cell_type": "code",
   "execution_count": 333,
   "id": "be77ec49",
   "metadata": {},
   "outputs": [
    {
     "data": {
      "text/plain": [
       "<AxesSubplot:xlabel='year', ylabel='temp'>"
      ]
     },
     "execution_count": 333,
     "metadata": {},
     "output_type": "execute_result"
    },
    {
     "data": {
      "image/png": "[encoded data removed]",
      "text/plain": [
       "<Figure size 432x288 with 1 Axes>"
      ]
     },
     "metadata": {
      "needs_background": "light"
     },
     "output_type": "display_data"
    }
   ],
   "source": [
    "import seaborn as sns\n",
    "sns.lineplot(x=a['year'],y=a['temp'])\n",
    "sns.regplot(x=a['year'],y=a['temp'], ci=None)"
   ]
  },
  {
   "cell_type": "code",
   "execution_count": 334,
   "id": "d83aaf47",
   "metadata": {},
   "outputs": [
    {
     "data": {
      "text/html": [
       "<div>\n",
       "<style scoped>\n",
       "    .dataframe tbody tr th:only-of-type {\n",
       "        vertical-align: middle;\n",
       "    }\n",
       "\n",
       "    .dataframe tbody tr th {\n",
       "        vertical-align: top;\n",
       "    }\n",
       "\n",
       "    .dataframe thead th {\n",
       "        text-align: right;\n",
       "    }\n",
       "</style>\n",
       "<table border=\"1\" class=\"dataframe\">\n",
       "  <thead>\n",
       "    <tr style=\"text-align: right;\">\n",
       "      <th></th>\n",
       "      <th>year</th>\n",
       "      <th>temp</th>\n",
       "    </tr>\n",
       "  </thead>\n",
       "  <tbody>\n",
       "    <tr>\n",
       "      <th>0</th>\n",
       "      <td>1951</td>\n",
       "      <td>40.363250</td>\n",
       "    </tr>\n",
       "    <tr>\n",
       "      <th>1</th>\n",
       "      <td>1952</td>\n",
       "      <td>41.845417</td>\n",
       "    </tr>\n",
       "    <tr>\n",
       "      <th>2</th>\n",
       "      <td>1953</td>\n",
       "      <td>40.170667</td>\n",
       "    </tr>\n",
       "    <tr>\n",
       "      <th>3</th>\n",
       "      <td>1954</td>\n",
       "      <td>40.520917</td>\n",
       "    </tr>\n",
       "    <tr>\n",
       "      <th>4</th>\n",
       "      <td>1955</td>\n",
       "      <td>40.704833</td>\n",
       "    </tr>\n",
       "    <tr>\n",
       "      <th>...</th>\n",
       "      <td>...</td>\n",
       "      <td>...</td>\n",
       "    </tr>\n",
       "    <tr>\n",
       "      <th>64</th>\n",
       "      <td>2015</td>\n",
       "      <td>41.543833</td>\n",
       "    </tr>\n",
       "    <tr>\n",
       "      <th>65</th>\n",
       "      <td>2016</td>\n",
       "      <td>42.549833</td>\n",
       "    </tr>\n",
       "    <tr>\n",
       "      <th>66</th>\n",
       "      <td>2017</td>\n",
       "      <td>42.494583</td>\n",
       "    </tr>\n",
       "    <tr>\n",
       "      <th>67</th>\n",
       "      <td>2018</td>\n",
       "      <td>41.926250</td>\n",
       "    </tr>\n",
       "    <tr>\n",
       "      <th>68</th>\n",
       "      <td>2019</td>\n",
       "      <td>41.730667</td>\n",
       "    </tr>\n",
       "  </tbody>\n",
       "</table>\n",
       "<p>69 rows × 2 columns</p>\n",
       "</div>"
      ],
      "text/plain": [
       "    year       temp\n",
       "0   1951  40.363250\n",
       "1   1952  41.845417\n",
       "2   1953  40.170667\n",
       "3   1954  40.520917\n",
       "4   1955  40.704833\n",
       "..   ...        ...\n",
       "64  2015  41.543833\n",
       "65  2016  42.549833\n",
       "66  2017  42.494583\n",
       "67  2018  41.926250\n",
       "68  2019  41.730667\n",
       "\n",
       "[69 rows x 2 columns]"
      ]
     },
     "execution_count": 334,
     "metadata": {},
     "output_type": "execute_result"
    }
   ],
   "source": [
    "a"
   ]
  },
  {
   "cell_type": "code",
   "execution_count": 335,
   "id": "1b2e0e94",
   "metadata": {},
   "outputs": [
    {
     "data": {
      "text/html": [
       "<div>\n",
       "<style scoped>\n",
       "    .dataframe tbody tr th:only-of-type {\n",
       "        vertical-align: middle;\n",
       "    }\n",
       "\n",
       "    .dataframe tbody tr th {\n",
       "        vertical-align: top;\n",
       "    }\n",
       "\n",
       "    .dataframe thead th {\n",
       "        text-align: right;\n",
       "    }\n",
       "</style>\n",
       "<table border=\"1\" class=\"dataframe\">\n",
       "  <thead>\n",
       "    <tr style=\"text-align: right;\">\n",
       "      <th></th>\n",
       "      <th>date</th>\n",
       "      <th>year</th>\n",
       "      <th>month</th>\n",
       "      <th>day</th>\n",
       "      <th>temp</th>\n",
       "    </tr>\n",
       "  </thead>\n",
       "  <tbody>\n",
       "    <tr>\n",
       "      <th>0</th>\n",
       "      <td>1951-04-15</td>\n",
       "      <td>1951</td>\n",
       "      <td>4</td>\n",
       "      <td>15</td>\n",
       "      <td>40.2300</td>\n",
       "    </tr>\n",
       "    <tr>\n",
       "      <th>1</th>\n",
       "      <td>1951-04-16</td>\n",
       "      <td>1951</td>\n",
       "      <td>4</td>\n",
       "      <td>16</td>\n",
       "      <td>41.0375</td>\n",
       "    </tr>\n",
       "    <tr>\n",
       "      <th>2</th>\n",
       "      <td>1951-04-17</td>\n",
       "      <td>1951</td>\n",
       "      <td>4</td>\n",
       "      <td>17</td>\n",
       "      <td>41.1150</td>\n",
       "    </tr>\n",
       "    <tr>\n",
       "      <th>3</th>\n",
       "      <td>1951-04-18</td>\n",
       "      <td>1951</td>\n",
       "      <td>4</td>\n",
       "      <td>18</td>\n",
       "      <td>40.9775</td>\n",
       "    </tr>\n",
       "    <tr>\n",
       "      <th>4</th>\n",
       "      <td>1951-04-19</td>\n",
       "      <td>1951</td>\n",
       "      <td>4</td>\n",
       "      <td>19</td>\n",
       "      <td>40.6575</td>\n",
       "    </tr>\n",
       "    <tr>\n",
       "      <th>...</th>\n",
       "      <td>...</td>\n",
       "      <td>...</td>\n",
       "      <td>...</td>\n",
       "      <td>...</td>\n",
       "      <td>...</td>\n",
       "    </tr>\n",
       "    <tr>\n",
       "      <th>2065</th>\n",
       "      <td>2019-05-11</td>\n",
       "      <td>2019</td>\n",
       "      <td>5</td>\n",
       "      <td>11</td>\n",
       "      <td>41.4200</td>\n",
       "    </tr>\n",
       "    <tr>\n",
       "      <th>2066</th>\n",
       "      <td>2019-05-12</td>\n",
       "      <td>2019</td>\n",
       "      <td>5</td>\n",
       "      <td>12</td>\n",
       "      <td>41.7950</td>\n",
       "    </tr>\n",
       "    <tr>\n",
       "      <th>2067</th>\n",
       "      <td>2019-05-13</td>\n",
       "      <td>2019</td>\n",
       "      <td>5</td>\n",
       "      <td>13</td>\n",
       "      <td>40.9075</td>\n",
       "    </tr>\n",
       "    <tr>\n",
       "      <th>2068</th>\n",
       "      <td>2019-05-14</td>\n",
       "      <td>2019</td>\n",
       "      <td>5</td>\n",
       "      <td>14</td>\n",
       "      <td>40.3800</td>\n",
       "    </tr>\n",
       "    <tr>\n",
       "      <th>2069</th>\n",
       "      <td>2019-05-07</td>\n",
       "      <td>2019</td>\n",
       "      <td>5</td>\n",
       "      <td>7</td>\n",
       "      <td>43.1225</td>\n",
       "    </tr>\n",
       "  </tbody>\n",
       "</table>\n",
       "<p>2070 rows × 5 columns</p>\n",
       "</div>"
      ],
      "text/plain": [
       "           date  year  month  day     temp\n",
       "0    1951-04-15  1951      4   15  40.2300\n",
       "1    1951-04-16  1951      4   16  41.0375\n",
       "2    1951-04-17  1951      4   17  41.1150\n",
       "3    1951-04-18  1951      4   18  40.9775\n",
       "4    1951-04-19  1951      4   19  40.6575\n",
       "...         ...   ...    ...  ...      ...\n",
       "2065 2019-05-11  2019      5   11  41.4200\n",
       "2066 2019-05-12  2019      5   12  41.7950\n",
       "2067 2019-05-13  2019      5   13  40.9075\n",
       "2068 2019-05-14  2019      5   14  40.3800\n",
       "2069 2019-05-07  2019      5    7  43.1225\n",
       "\n",
       "[2070 rows x 5 columns]"
      ]
     },
     "execution_count": 335,
     "metadata": {},
     "output_type": "execute_result"
    }
   ],
   "source": [
    "b"
   ]
  },
  {
   "cell_type": "code",
   "execution_count": null,
   "id": "4070cae7",
   "metadata": {},
   "outputs": [],
   "source": []
  }
 ],
 "metadata": {
  "kernelspec": {
   "display_name": "Python 3 (ipykernel)",
   "language": "python",
   "name": "python3"
  },
  "language_info": {
   "codemirror_mode": {
    "name": "ipython",
    "version": 3
   },
   "file_extension": ".py",
   "mimetype": "text/x-python",
   "name": "python",
   "nbconvert_exporter": "python",
   "pygments_lexer": "ipython3",
   "version": "3.9.7"
  }
 },
 "nbformat": 4,
 "nbformat_minor": 5
}
